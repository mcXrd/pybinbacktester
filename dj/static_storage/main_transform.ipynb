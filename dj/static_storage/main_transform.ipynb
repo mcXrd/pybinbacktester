{
 "cells": [
  {
   "cell_type": "code",
   "execution_count": 2,
   "metadata": {},
   "outputs": [],
   "source": [
    "import pandas as pd\n",
    "import numpy as np\n",
    "\n",
    "resp_start = \"trade_in_3h_ETHBUSD_open_price\"\n",
    "resp_end = \"trade_in_1h_BTCBUSD_open_price\"\n"
   ]
  },
  {
   "cell_type": "code",
   "execution_count": 22,
   "metadata": {},
   "outputs": [
    {
     "data": {
      "text/html": [
       "<div>\n",
       "<style scoped>\n",
       "    .dataframe tbody tr th:only-of-type {\n",
       "        vertical-align: middle;\n",
       "    }\n",
       "\n",
       "    .dataframe tbody tr th {\n",
       "        vertical-align: top;\n",
       "    }\n",
       "\n",
       "    .dataframe thead th {\n",
       "        text-align: right;\n",
       "    }\n",
       "</style>\n",
       "<table border=\"1\" class=\"dataframe\">\n",
       "  <thead>\n",
       "    <tr style=\"text-align: right;\">\n",
       "      <th></th>\n",
       "      <th>trade_in_3h_usdtfutures_BTCUSDT_close_price</th>\n",
       "      <th>trade_in_2h_usdtfutures_BTCUSDT_close_price</th>\n",
       "      <th>trade_in_1h_usdtfutures_BTCUSDT_close_price</th>\n",
       "      <th>trade_in_3h_usdtfutures_BNBUSDT_close_price</th>\n",
       "      <th>trade_in_2h_usdtfutures_BNBUSDT_close_price</th>\n",
       "      <th>trade_in_1h_usdtfutures_BNBUSDT_close_price</th>\n",
       "      <th>trade_in_3h_usdtfutures_ADAUSDT_close_price</th>\n",
       "      <th>trade_in_2h_usdtfutures_ADAUSDT_close_price</th>\n",
       "      <th>trade_in_1h_usdtfutures_ADAUSDT_close_price</th>\n",
       "      <th>trade_in_3h_usdtfutures_XRPUSDT_close_price</th>\n",
       "      <th>...</th>\n",
       "      <th>spot_BTCUSDT_taker_buy_quote_asset_volume_mean_2</th>\n",
       "      <th>spot_BTCUSDT_taker_buy_quote_asset_volume_skew_2</th>\n",
       "      <th>spot_BTCUSDT_taker_buy_quote_asset_volume_kurt_2</th>\n",
       "      <th>spot_BTCUSDT_taker_buy_quote_asset_volume_std_2</th>\n",
       "      <th>spot_BTCUSDT_taker_buy_quote_asset_volume_cov_2</th>\n",
       "      <th>spot_BTCUSDT_taker_buy_quote_asset_volume_mean_4</th>\n",
       "      <th>spot_BTCUSDT_taker_buy_quote_asset_volume_skew_4</th>\n",
       "      <th>spot_BTCUSDT_taker_buy_quote_asset_volume_kurt_4</th>\n",
       "      <th>spot_BTCUSDT_taker_buy_quote_asset_volume_std_4</th>\n",
       "      <th>spot_BTCUSDT_taker_buy_quote_asset_volume_cov_4</th>\n",
       "    </tr>\n",
       "  </thead>\n",
       "  <tbody>\n",
       "  </tbody>\n",
       "</table>\n",
       "<p>0 rows × 1275 columns</p>\n",
       "</div>"
      ],
      "text/plain": [
       "Empty DataFrame\n",
       "Columns: [trade_in_3h_usdtfutures_BTCUSDT_close_price, trade_in_2h_usdtfutures_BTCUSDT_close_price, trade_in_1h_usdtfutures_BTCUSDT_close_price, trade_in_3h_usdtfutures_BNBUSDT_close_price, trade_in_2h_usdtfutures_BNBUSDT_close_price, trade_in_1h_usdtfutures_BNBUSDT_close_price, trade_in_3h_usdtfutures_ADAUSDT_close_price, trade_in_2h_usdtfutures_ADAUSDT_close_price, trade_in_1h_usdtfutures_ADAUSDT_close_price, trade_in_3h_usdtfutures_XRPUSDT_close_price, trade_in_2h_usdtfutures_XRPUSDT_close_price, trade_in_1h_usdtfutures_XRPUSDT_close_price, trade_in_3h_usdtfutures_ETHUSDT_close_price, trade_in_2h_usdtfutures_ETHUSDT_close_price, trade_in_1h_usdtfutures_ETHUSDT_close_price, usdtfutures_ETHUSDT_open_price, usdtfutures_ETHUSDT_high_price, usdtfutures_ETHUSDT_low_price, usdtfutures_ETHUSDT_close_price, usdtfutures_ETHUSDT_volume, usdtfutures_ETHUSDT_quota_asset_volume, usdtfutures_ETHUSDT_number_of_trades, usdtfutures_ETHUSDT_taker_buy_base_asset_volume, usdtfutures_ETHUSDT_taker_buy_quote_asset_volume, spot_ETHUSDT_open_price, spot_ETHUSDT_high_price, spot_ETHUSDT_low_price, spot_ETHUSDT_close_price, spot_ETHUSDT_volume, spot_ETHUSDT_quota_asset_volume, spot_ETHUSDT_number_of_trades, spot_ETHUSDT_taker_buy_base_asset_volume, spot_ETHUSDT_taker_buy_quote_asset_volume, usdtfutures_XRPUSDT_open_price, usdtfutures_XRPUSDT_high_price, usdtfutures_XRPUSDT_low_price, usdtfutures_XRPUSDT_close_price, usdtfutures_XRPUSDT_volume, usdtfutures_XRPUSDT_quota_asset_volume, usdtfutures_XRPUSDT_number_of_trades, usdtfutures_XRPUSDT_taker_buy_base_asset_volume, usdtfutures_XRPUSDT_taker_buy_quote_asset_volume, usdtfutures_ADAUSDT_open_price, usdtfutures_ADAUSDT_high_price, usdtfutures_ADAUSDT_low_price, usdtfutures_ADAUSDT_close_price, usdtfutures_ADAUSDT_volume, usdtfutures_ADAUSDT_quota_asset_volume, usdtfutures_ADAUSDT_number_of_trades, usdtfutures_ADAUSDT_taker_buy_base_asset_volume, usdtfutures_ADAUSDT_taker_buy_quote_asset_volume, spot_ADAUSDT_open_price, spot_ADAUSDT_high_price, spot_ADAUSDT_low_price, spot_ADAUSDT_close_price, spot_ADAUSDT_volume, spot_ADAUSDT_quota_asset_volume, spot_ADAUSDT_number_of_trades, spot_ADAUSDT_taker_buy_base_asset_volume, spot_ADAUSDT_taker_buy_quote_asset_volume, usdtfutures_BNBUSDT_open_price, usdtfutures_BNBUSDT_high_price, usdtfutures_BNBUSDT_low_price, usdtfutures_BNBUSDT_close_price, usdtfutures_BNBUSDT_volume, usdtfutures_BNBUSDT_quota_asset_volume, usdtfutures_BNBUSDT_number_of_trades, usdtfutures_BNBUSDT_taker_buy_base_asset_volume, usdtfutures_BNBUSDT_taker_buy_quote_asset_volume, usdtfutures_BTCUSDT_open_price, usdtfutures_BTCUSDT_high_price, usdtfutures_BTCUSDT_low_price, usdtfutures_BTCUSDT_close_price, usdtfutures_BTCUSDT_volume, usdtfutures_BTCUSDT_quota_asset_volume, usdtfutures_BTCUSDT_number_of_trades, usdtfutures_BTCUSDT_taker_buy_base_asset_volume, usdtfutures_BTCUSDT_taker_buy_quote_asset_volume, spot_XRPUSDT_open_price, spot_XRPUSDT_high_price, spot_XRPUSDT_low_price, spot_XRPUSDT_close_price, spot_XRPUSDT_volume, spot_XRPUSDT_quota_asset_volume, spot_XRPUSDT_number_of_trades, spot_XRPUSDT_taker_buy_base_asset_volume, spot_XRPUSDT_taker_buy_quote_asset_volume, spot_BNBUSDT_open_price, spot_BNBUSDT_high_price, spot_BNBUSDT_low_price, spot_BNBUSDT_close_price, spot_BNBUSDT_volume, spot_BNBUSDT_quota_asset_volume, spot_BNBUSDT_number_of_trades, spot_BNBUSDT_taker_buy_base_asset_volume, spot_BNBUSDT_taker_buy_quote_asset_volume, spot_BTCUSDT_open_price, spot_BTCUSDT_high_price, spot_BTCUSDT_low_price, spot_BTCUSDT_close_price, ...]\n",
       "Index: []\n",
       "\n",
       "[0 rows x 1275 columns]"
      ]
     },
     "execution_count": 22,
     "metadata": {},
     "output_type": "execute_result"
    }
   ],
   "source": [
    "df = pd.read_hdf(\"apr21.hdf\")\n",
    "#df = pd.read_hdf(\"mar27.hdf\")\n",
    "#df = df.reset_index(drop=True)\n",
    "df = df.dropna()\n",
    "df"
   ]
  },
  {
   "cell_type": "code",
   "execution_count": 21,
   "metadata": {},
   "outputs": [
    {
     "data": {
      "text/html": [
       "<div>\n",
       "<style scoped>\n",
       "    .dataframe tbody tr th:only-of-type {\n",
       "        vertical-align: middle;\n",
       "    }\n",
       "\n",
       "    .dataframe tbody tr th {\n",
       "        vertical-align: top;\n",
       "    }\n",
       "\n",
       "    .dataframe thead th {\n",
       "        text-align: right;\n",
       "    }\n",
       "</style>\n",
       "<table border=\"1\" class=\"dataframe\">\n",
       "  <thead>\n",
       "    <tr style=\"text-align: right;\">\n",
       "      <th></th>\n",
       "      <th>usdtfutures_BNBUSDT_close_price</th>\n",
       "      <th>spot_ADAUSDT_close_price</th>\n",
       "    </tr>\n",
       "  </thead>\n",
       "  <tbody>\n",
       "    <tr>\n",
       "      <th>2019-12-12 05:59:59.999000+00:00</th>\n",
       "      <td>NaN</td>\n",
       "      <td>0.03642</td>\n",
       "    </tr>\n",
       "    <tr>\n",
       "      <th>2019-12-12 06:59:59.999000+00:00</th>\n",
       "      <td>NaN</td>\n",
       "      <td>0.03647</td>\n",
       "    </tr>\n",
       "    <tr>\n",
       "      <th>2019-12-12 07:59:59.999000+00:00</th>\n",
       "      <td>NaN</td>\n",
       "      <td>0.03637</td>\n",
       "    </tr>\n",
       "    <tr>\n",
       "      <th>2019-12-12 08:59:59.999000+00:00</th>\n",
       "      <td>NaN</td>\n",
       "      <td>0.03629</td>\n",
       "    </tr>\n",
       "    <tr>\n",
       "      <th>2019-12-12 09:59:59.999000+00:00</th>\n",
       "      <td>NaN</td>\n",
       "      <td>0.03634</td>\n",
       "    </tr>\n",
       "    <tr>\n",
       "      <th>...</th>\n",
       "      <td>...</td>\n",
       "      <td>...</td>\n",
       "    </tr>\n",
       "    <tr>\n",
       "      <th>2021-03-28 10:59:59.999000+00:00</th>\n",
       "      <td>272.046</td>\n",
       "      <td>1.19505</td>\n",
       "    </tr>\n",
       "    <tr>\n",
       "      <th>2021-03-28 11:59:59.999000+00:00</th>\n",
       "      <td>269.431</td>\n",
       "      <td>1.18866</td>\n",
       "    </tr>\n",
       "    <tr>\n",
       "      <th>2021-03-28 12:59:59.999000+00:00</th>\n",
       "      <td>269.886</td>\n",
       "      <td>1.18336</td>\n",
       "    </tr>\n",
       "    <tr>\n",
       "      <th>2021-03-28 13:59:59.999000+00:00</th>\n",
       "      <td>271.167</td>\n",
       "      <td>1.18610</td>\n",
       "    </tr>\n",
       "    <tr>\n",
       "      <th>2021-03-28 14:59:59.999000+00:00</th>\n",
       "      <td>270.851</td>\n",
       "      <td>1.18363</td>\n",
       "    </tr>\n",
       "  </tbody>\n",
       "</table>\n",
       "<p>11103 rows × 2 columns</p>\n",
       "</div>"
      ],
      "text/plain": [
       "                                  usdtfutures_BNBUSDT_close_price  \\\n",
       "2019-12-12 05:59:59.999000+00:00                              NaN   \n",
       "2019-12-12 06:59:59.999000+00:00                              NaN   \n",
       "2019-12-12 07:59:59.999000+00:00                              NaN   \n",
       "2019-12-12 08:59:59.999000+00:00                              NaN   \n",
       "2019-12-12 09:59:59.999000+00:00                              NaN   \n",
       "...                                                           ...   \n",
       "2021-03-28 10:59:59.999000+00:00                          272.046   \n",
       "2021-03-28 11:59:59.999000+00:00                          269.431   \n",
       "2021-03-28 12:59:59.999000+00:00                          269.886   \n",
       "2021-03-28 13:59:59.999000+00:00                          271.167   \n",
       "2021-03-28 14:59:59.999000+00:00                          270.851   \n",
       "\n",
       "                                  spot_ADAUSDT_close_price  \n",
       "2019-12-12 05:59:59.999000+00:00                   0.03642  \n",
       "2019-12-12 06:59:59.999000+00:00                   0.03647  \n",
       "2019-12-12 07:59:59.999000+00:00                   0.03637  \n",
       "2019-12-12 08:59:59.999000+00:00                   0.03629  \n",
       "2019-12-12 09:59:59.999000+00:00                   0.03634  \n",
       "...                                                    ...  \n",
       "2021-03-28 10:59:59.999000+00:00                   1.19505  \n",
       "2021-03-28 11:59:59.999000+00:00                   1.18866  \n",
       "2021-03-28 12:59:59.999000+00:00                   1.18336  \n",
       "2021-03-28 13:59:59.999000+00:00                   1.18610  \n",
       "2021-03-28 14:59:59.999000+00:00                   1.18363  \n",
       "\n",
       "[11103 rows x 2 columns]"
      ]
     },
     "execution_count": 21,
     "metadata": {},
     "output_type": "execute_result"
    }
   ],
   "source": [
    "df[['usdtfutures_BNBUSDT_close_price', 'spot_ADAUSDT_close_price']].iloc[:-1000]"
   ]
  },
  {
   "cell_type": "code",
   "execution_count": 4,
   "metadata": {},
   "outputs": [
    {
     "data": {
      "text/plain": [
       "'trade_in_1h_usdtfutures_ETHUSDT_open_price'"
      ]
     },
     "execution_count": 4,
     "metadata": {},
     "output_type": "execute_result"
    }
   ],
   "source": [
    "df.iloc[:,47].name\n"
   ]
  },
  {
   "cell_type": "code",
   "execution_count": 5,
   "metadata": {},
   "outputs": [
    {
     "data": {
      "text/plain": [
       "('trade_in_3h_spot_BTCUSDT_open_price',\n",
       " 'trade_in_1h_usdtfutures_ETHUSDT_open_price')"
      ]
     },
     "execution_count": 5,
     "metadata": {},
     "output_type": "execute_result"
    }
   ],
   "source": [
    "RESP_START = df.iloc[:,0].name\n",
    "RESP_END = df.iloc[:,last_trade_in_column].name\n",
    "RESP_START, RESP_END"
   ]
  },
  {
   "cell_type": "code",
   "execution_count": 6,
   "metadata": {},
   "outputs": [
    {
     "data": {
      "text/plain": [
       "48"
      ]
     },
     "execution_count": 6,
     "metadata": {},
     "output_type": "execute_result"
    }
   ],
   "source": [
    "len(df.loc[:, RESP_START: RESP_END].columns)"
   ]
  },
  {
   "cell_type": "code",
   "execution_count": 7,
   "metadata": {},
   "outputs": [],
   "source": [
    "last_trade_in_column = -1\n",
    "for col in df.columns:\n",
    "    if col.startswith(\"trade_in\"):\n",
    "        last_trade_in_column +=1\n",
    "    else:\n",
    "        break\n",
    "last_trade_in_column\n",
    "ENCODED_FEATURES_COUNT = 200\n",
    "JaneStreetDatasetPredict_Y_LEN = len(df.loc[:, RESP_START: RESP_END].columns)\n",
    "RESP_START = df.iloc[:,0].name\n",
    "RESP_END = df.iloc[:,last_trade_in_column].name\n",
    "\n",
    "\n",
    "JaneStreetEncode1Dataset_Y_START_COLUMN = df.iloc[:,last_trade_in_column+1].name\n",
    "JaneStreetEncode1Dataset_Y_END_COLUMN = df.iloc[:,-1].name\n",
    "\n",
    "JaneStreetEncode1Dataset_Y_LEN = len(df.loc[:, JaneStreetEncode1Dataset_Y_START_COLUMN: JaneStreetEncode1Dataset_Y_END_COLUMN].columns)"
   ]
  },
  {
   "cell_type": "code",
   "execution_count": 8,
   "metadata": {},
   "outputs": [
    {
     "data": {
      "text/plain": [
       "3504"
      ]
     },
     "execution_count": 8,
     "metadata": {},
     "output_type": "execute_result"
    }
   ],
   "source": [
    "len(df.columns)"
   ]
  },
  {
   "cell_type": "code",
   "execution_count": 9,
   "metadata": {},
   "outputs": [
    {
     "data": {
      "text/plain": [
       "48"
      ]
     },
     "execution_count": 9,
     "metadata": {},
     "output_type": "execute_result"
    }
   ],
   "source": [
    "JaneStreetDatasetPredict_Y_LEN"
   ]
  },
  {
   "cell_type": "code",
   "execution_count": 11,
   "metadata": {},
   "outputs": [
    {
     "data": {
      "text/plain": [
       "3504"
      ]
     },
     "execution_count": 11,
     "metadata": {},
     "output_type": "execute_result"
    }
   ],
   "source": [
    "JaneStreetEncode1Dataset_Y_LEN"
   ]
  },
  {
   "cell_type": "code",
   "execution_count": 14,
   "metadata": {},
   "outputs": [
    {
     "data": {
      "text/plain": [
       "'usdtfutures_ETHUSDT_open_price'"
      ]
     },
     "execution_count": 14,
     "metadata": {},
     "output_type": "execute_result"
    }
   ],
   "source": [
    "df.iloc[:,last_trade_in_column+1].name"
   ]
  },
  {
   "cell_type": "code",
   "execution_count": null,
   "metadata": {},
   "outputs": [],
   "source": []
  }
 ],
 "metadata": {
  "kernelspec": {
   "display_name": "Python 3",
   "language": "python",
   "name": "python3"
  },
  "language_info": {
   "codemirror_mode": {
    "name": "ipython",
    "version": 3
   },
   "file_extension": ".py",
   "mimetype": "text/x-python",
   "name": "python",
   "nbconvert_exporter": "python",
   "pygments_lexer": "ipython3",
   "version": "3.8.5"
  }
 },
 "nbformat": 4,
 "nbformat_minor": 4
}
