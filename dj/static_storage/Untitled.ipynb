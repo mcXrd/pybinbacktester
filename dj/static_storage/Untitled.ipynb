{
 "cells": [
  {
   "cell_type": "code",
   "execution_count": 1,
   "metadata": {},
   "outputs": [],
   "source": [
    "import numpy as np\n",
    "import random"
   ]
  },
  {
   "cell_type": "code",
   "execution_count": 6,
   "metadata": {},
   "outputs": [],
   "source": [
    "std = np.std([1.19, 1.21], ddof=1)\n",
    "\n",
    "mu, sigma = 0, std # mean and standard deviation\n",
    "s = np.random.normal(mu, sigma, 10)"
   ]
  },
  {
   "cell_type": "code",
   "execution_count": 12,
   "metadata": {},
   "outputs": [
    {
     "data": {
      "text/plain": [
       "-0.002385491581080886"
      ]
     },
     "execution_count": 12,
     "metadata": {},
     "output_type": "execute_result"
    }
   ],
   "source": [
    "s\n",
    "s = np.random.normal(mu, sigma, 100)\n",
    "noise = s[0]\n",
    "noise"
   ]
  },
  {
   "cell_type": "code",
   "execution_count": 13,
   "metadata": {},
   "outputs": [
    {
     "data": {
      "text/plain": [
       "array([-0.00238549, -0.02140425, -0.01519238,  0.010846  ,  0.02592085,\n",
       "        0.00762288,  0.01799082,  0.00883979,  0.00051805,  0.00228989,\n",
       "       -0.00158535,  0.01776485,  0.00842716, -0.01743962, -0.00951106,\n",
       "       -0.0258476 , -0.00638379, -0.01211345,  0.00320507,  0.00289745,\n",
       "       -0.00759996, -0.01088238,  0.0035023 , -0.00136463,  0.01573058,\n",
       "       -0.00574055, -0.01115688,  0.00762568, -0.01466971,  0.01276786,\n",
       "       -0.00034416, -0.02532106,  0.00500541,  0.00962892, -0.0245305 ,\n",
       "       -0.01415301,  0.01405539,  0.00365982, -0.01543318, -0.01033851,\n",
       "       -0.01425873, -0.00053664,  0.00757124, -0.01856907,  0.00627302,\n",
       "       -0.00604395,  0.00525049, -0.00552576,  0.00772764,  0.01285833,\n",
       "        0.00787047,  0.0106581 ,  0.00136866, -0.00270113, -0.00301419,\n",
       "        0.00505764, -0.01178566, -0.04174269, -0.00774149, -0.01188381,\n",
       "       -0.01323695,  0.02378576, -0.01285008,  0.00925411,  0.0008371 ,\n",
       "       -0.01852468, -0.01200249, -0.00933573,  0.00580097, -0.0076573 ,\n",
       "       -0.02574183, -0.00543286, -0.00741682, -0.02175057,  0.00834916,\n",
       "        0.00347794,  0.01850685, -0.00416423,  0.00260013,  0.00700143,\n",
       "       -0.00480039,  0.01438349,  0.01009803,  0.01459729, -0.00706272,\n",
       "        0.01434479, -0.0097478 , -0.00545182, -0.0046614 , -0.00703173,\n",
       "       -0.01329071,  0.01602097,  0.00909309,  0.01431513,  0.01969835,\n",
       "       -0.02195423,  0.01779281,  0.00119283, -0.02653347, -0.00815378])"
      ]
     },
     "execution_count": 13,
     "metadata": {},
     "output_type": "execute_result"
    }
   ],
   "source": [
    "s"
   ]
  },
  {
   "cell_type": "code",
   "execution_count": 5,
   "metadata": {},
   "outputs": [
    {
     "data": {
      "text/plain": [
       "0.0014142135623730963"
      ]
     },
     "execution_count": 5,
     "metadata": {},
     "output_type": "execute_result"
    }
   ],
   "source": [
    "np.std([1.19, 1.192], ddof=1)"
   ]
  },
  {
   "cell_type": "code",
   "execution_count": null,
   "metadata": {},
   "outputs": [],
   "source": []
  }
 ],
 "metadata": {
  "kernelspec": {
   "display_name": "Python 3",
   "language": "python",
   "name": "python3"
  },
  "language_info": {
   "codemirror_mode": {
    "name": "ipython",
    "version": 3
   },
   "file_extension": ".py",
   "mimetype": "text/x-python",
   "name": "python",
   "nbconvert_exporter": "python",
   "pygments_lexer": "ipython3",
   "version": "3.8.5"
  }
 },
 "nbformat": 4,
 "nbformat_minor": 4
}
