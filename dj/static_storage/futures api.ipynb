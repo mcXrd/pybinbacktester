{
 "cells": [
  {
   "cell_type": "code",
   "execution_count": 1,
   "metadata": {},
   "outputs": [],
   "source": [
    "from binance_f import RequestClient\n",
    "from binance_f.model import CandlestickInterval\n",
    "from binance_f.base.printobject import PrintMix\n",
    "from binance_f.model.constant import OrderType, OrderSide, PositionSide, TimeInForce\n",
    "\n",
    "g_api_key, g_secret_key = \"agLT6GRjK8pnneAGTmEB1T2LpU3wanpBnp6MErZdsaQi8x25HyI9I6LWxt7ZQBtz\", \"sxxXqepsYweQlS4zSshxSVlvYJYeTQLUq05CQvwmTqhqFwpYuZPtElm0GhY8KrLr\"\n"
   ]
  },
  {
   "cell_type": "code",
   "execution_count": 2,
   "metadata": {},
   "outputs": [],
   "source": [
    "request_client = RequestClient(api_key=g_api_key, secret_key=g_secret_key)\n",
    "\n",
    "#result = request_client.get_candlestick_data(symbol=\"BTCUSDT\", interval=CandlestickInterval.HOUR1, startTime=None, endTime=None)\n",
    "\n"
   ]
  },
  {
   "cell_type": "code",
   "execution_count": 3,
   "metadata": {},
   "outputs": [],
   "source": [
    "#list(result)"
   ]
  },
  {
   "cell_type": "code",
   "execution_count": 4,
   "metadata": {},
   "outputs": [
    {
     "name": "stdout",
     "output_type": "stream",
     "text": [
      "[[1617805920000,\"1.20326\",\"1.20491\",\"1.20154\",\"1.20453\",\"300104\",1617805979999,\"361214.51028\",542,\"169319\",\"203831.13257\",\"0\"]]\n"
     ]
    },
    {
     "data": {
      "text/plain": [
       "('1.20453', [<binance_f.model.candlestick.Candlestick at 0x7ff25247dac0>])"
      ]
     },
     "execution_count": 4,
     "metadata": {},
     "output_type": "execute_result"
    }
   ],
   "source": [
    "SYMBOL=\"ADAUSDT\"\n",
    "price_result = request_client.get_candlestick_data(symbol=\"ADAUSDT\", interval=CandlestickInterval.MIN1, startTime=None, endTime=None, limit=1)\n",
    "price = price_result[0].close\n",
    "price, price_result"
   ]
  },
  {
   "cell_type": "code",
   "execution_count": 5,
   "metadata": {},
   "outputs": [
    {
     "name": "stdout",
     "output_type": "stream",
     "text": [
      "====== Request ======\n",
      "<binance_f.impl.restapirequest.RestApiRequest object at 0x7ff252478970>\n",
      "header:{'client_SDK_Version': 'binance_futures-1.0.1-py3.7', 'Content-Type': 'application/json', 'X-MBX-APIKEY': 'agLT6GRjK8pnneAGTmEB1T2LpU3wanpBnp6MErZdsaQi8x25HyI9I6LWxt7ZQBtz'}\n",
      "host:https://fapi.binance.com\n",
      "json_parser:None\n",
      "method:POST\n",
      "post_body:{}\n",
      "url:/fapi/v1/order?symbol=ADAUSDT&side=SELL&type=LIMIT&timeInForce=GTC&quantity=5&price=1.20453&recvWindow=60000&timestamp=1617805981536&signature=a1ffc174d67c425d3e41cab3723dec221ae8f548be1d61cdd61b9aa8d8671ffd\n",
      "=====================\n",
      "{\"orderId\":11793327994,\"symbol\":\"ADAUSDT\",\"status\":\"NEW\",\"clientOrderId\":\"Tf4n9HAM6PUJGkO58v5wR3\",\"price\":\"1.20453\",\"avgPrice\":\"0.00000\",\"origQty\":\"5\",\"executedQty\":\"0\",\"cumQty\":\"0\",\"cumQuote\":\"0\",\"timeInForce\":\"GTC\",\"type\":\"LIMIT\",\"reduceOnly\":false,\"closePosition\":false,\"side\":\"SELL\",\"positionSide\":\"BOTH\",\"stopPrice\":\"0\",\"workingType\":\"CONTRACT_PRICE\",\"priceProtect\":false,\"origType\":\"LIMIT\",\"updateTime\":1617805982736}\n"
     ]
    },
    {
     "data": {
      "text/plain": [
       "'<binance_f.model.order.Order object at 0x7ff252478fa0>'"
      ]
     },
     "execution_count": 5,
     "metadata": {},
     "output_type": "execute_result"
    }
   ],
   "source": [
    "result = request_client.post_order(symbol=SYMBOL,side=OrderSide.SELL, ordertype=OrderType.LIMIT,price=round(float(price), 5), quantity=5, timeInForce=TimeInForce.GTC)\n",
    "a = str(result)\n",
    "a"
   ]
  },
  {
   "cell_type": "code",
   "execution_count": 6,
   "metadata": {},
   "outputs": [
    {
     "ename": "AttributeError",
     "evalue": "'Order' object has no attribute 'code'",
     "output_type": "error",
     "traceback": [
      "\u001b[0;31m---------------------------------------------------------------------------\u001b[0m",
      "\u001b[0;31mAttributeError\u001b[0m                            Traceback (most recent call last)",
      "\u001b[0;32m<ipython-input-6-98380dd1bb2f>\u001b[0m in \u001b[0;36m<module>\u001b[0;34m\u001b[0m\n\u001b[0;32m----> 1\u001b[0;31m \u001b[0mresult\u001b[0m\u001b[0;34m.\u001b[0m\u001b[0mcode\u001b[0m\u001b[0;34m\u001b[0m\u001b[0;34m\u001b[0m\u001b[0m\n\u001b[0m",
      "\u001b[0;31mAttributeError\u001b[0m: 'Order' object has no attribute 'code'"
     ]
    }
   ],
   "source": [
    "result.code"
   ]
  },
  {
   "cell_type": "raw",
   "metadata": {},
   "source": [
    "re"
   ]
  },
  {
   "cell_type": "code",
   "execution_count": null,
   "metadata": {},
   "outputs": [],
   "source": [
    "result2 = request_client.get_open_orders()\n",
    "type(result2)"
   ]
  },
  {
   "cell_type": "code",
   "execution_count": null,
   "metadata": {},
   "outputs": [],
   "source": [
    "#res = request_client.cancel_all_orders(symbol=SYMBOL)"
   ]
  },
  {
   "cell_type": "code",
   "execution_count": null,
   "metadata": {},
   "outputs": [],
   "source": [
    "res.code"
   ]
  },
  {
   "cell_type": "code",
   "execution_count": null,
   "metadata": {},
   "outputs": [],
   "source": [
    "\"usdtfutures_BCHUSDT\".split(\"usdtfutures_\")[1]"
   ]
  },
  {
   "cell_type": "code",
   "execution_count": 7,
   "metadata": {},
   "outputs": [
    {
     "name": "stdout",
     "output_type": "stream",
     "text": [
      "====== Request ======\n",
      "<binance_f.impl.restapirequest.RestApiRequest object at 0x7ff28c138340>\n",
      "header:{'client_SDK_Version': 'binance_futures-1.0.1-py3.7', 'Content-Type': 'application/x-www-form-urlencoded', 'X-MBX-APIKEY': 'agLT6GRjK8pnneAGTmEB1T2LpU3wanpBnp6MErZdsaQi8x25HyI9I6LWxt7ZQBtz'}\n",
      "host:https://fapi.binance.com\n",
      "json_parser:None\n",
      "method:GET\n",
      "post_body:\n",
      "url:/fapi/v1/account?recvWindow=60000&timestamp=1617818226747&signature=6299aa808eaf223d1bdb6262e976290ee711d5713184167bf46a2f9681691165\n",
      "=====================\n",
      "{\"feeTier\":0,\"canTrade\":true,\"canDeposit\":true,\"canWithdraw\":true,\"updateTime\":0,\"totalInitialMargin\":\"0.00000000\",\"totalMaintMargin\":\"0.00000000\",\"totalWalletBalance\":\"49.80986028\",\"totalUnrealizedProfit\":\"0.00000000\",\"totalMarginBalance\":\"49.80986028\",\"totalPositionInitialMargin\":\"0.00000000\",\"totalOpenOrderInitialMargin\":\"0.00000000\",\"totalCrossWalletBalance\":\"49.80986028\",\"totalCrossUnPnl\":\"0.00000000\",\"availableBalance\":\"49.80986028\",\"maxWithdrawAmount\":\"49.80986028\",\"assets\":[{\"asset\":\"BNB\",\"walletBalance\":\"1.00312349\",\"unrealizedProfit\":\"0.00000000\",\"marginBalance\":\"1.00312349\",\"maintMargin\":\"0.00000000\",\"initialMargin\":\"0.00000000\",\"positionInitialMargin\":\"0.00000000\",\"openOrderInitialMargin\":\"0.00000000\",\"maxWithdrawAmount\":\"1.00312349\",\"crossWalletBalance\":\"0.00000000\",\"crossUnPnl\":\"0.00000000\",\"availableBalance\":\"0.00000000\"},{\"asset\":\"USDT\",\"walletBalance\":\"49.80986028\",\"unrealizedProfit\":\"0.00000000\",\"marginBalance\":\"49.80986028\",\"maintMargin\":\"0.00000000\",\"initialMargin\":\"0.00000000\",\"positionInitialMargin\":\"0.00000000\",\"openOrderInitialMargin\":\"0.00000000\",\"maxWithdrawAmount\":\"49.80986028\",\"crossWalletBalance\":\"49.80986028\",\"crossUnPnl\":\"0.00000000\",\"availableBalance\":\"49.80986028\"},{\"asset\":\"BUSD\",\"walletBalance\":\"0.00000000\",\"unrealizedProfit\":\"0.00000000\",\"marginBalance\":\"0.00000000\",\"maintMargin\":\"0.00000000\",\"initialMargin\":\"0.00000000\",\"positionInitialMargin\":\"0.00000000\",\"openOrderInitialMargin\":\"0.00000000\",\"maxWithdrawAmount\":\"0.00000000\",\"crossWalletBalance\":\"0.00000000\",\"crossUnPnl\":\"0.00000000\",\"availableBalance\":\"0.00000000\"}],\"positions\":[{\"symbol\":\"SUSHIUSDT\",\"initialMargin\":\"0\",\"maintMargin\":\"0\",\"unrealizedProfit\":\"0.00000000\",\"positionInitialMargin\":\"0\",\"openOrderInitialMargin\":\"0\",\"leverage\":\"20\",\"isolated\":false,\"entryPrice\":\"0.0000\",\"maxNotional\":\"25000\",\"positionSide\":\"BOTH\",\"positionAmt\":\"0\",\"notional\":\"0\",\"isolatedWallet\":\"0\"},{\"symbol\":\"CVCUSDT\",\"initialMargin\":\"0\",\"maintMargin\":\"0\",\"unrealizedProfit\":\"0.00000000\",\"positionInitialMargin\":\"0\",\"openOrderInitialMargin\":\"0\",\"leverage\":\"20\",\"isolated\":false,\"entryPrice\":\"0.00000\",\"maxNotional\":\"25000\",\"positionSide\":\"BOTH\",\"positionAmt\":\"0\",\"notional\":\"0\",\"isolatedWallet\":\"0\"},{\"symbol\":\"BTSUSDT\",\"initialMargin\":\"0\",\"maintMargin\":\"0\",\"unrealizedProfit\":\"0.00000000\",\"positionInitialMargin\":\"0\",\"openOrderInitialMargin\":\"0\",\"leverage\":\"20\",\"isolated\":false,\"entryPrice\":\"0.00000\",\"maxNotional\":\"25000\",\"positionSide\":\"BOTH\",\"positionAmt\":\"0\",\"notional\":\"0\",\"isolatedWallet\":\"0\"},{\"symbol\":\"HOTUSDT\",\"initialMargin\":\"0\",\"maintMargin\":\"0\",\"unrealizedProfit\":\"0.00000000\",\"positionInitialMargin\":\"0\",\"openOrderInitialMargin\":\"0\",\"leverage\":\"20\",\"isolated\":false,\"entryPrice\":\"0.000000\",\"maxNotional\":\"25000\",\"positionSide\":\"BOTH\",\"positionAmt\":\"0\",\"notional\":\"0\",\"isolatedWallet\":\"0\"},{\"symbol\":\"ZRXUSDT\",\"initialMargin\":\"0\",\"maintMargin\":\"0\",\"unrealizedProfit\":\"0.00000000\",\"positionInitialMargin\":\"0\",\"openOrderInitialMargin\":\"0\",\"leverage\":\"20\",\"isolated\":false,\"entryPrice\":\"0.00000\",\"maxNotional\":\"25000\",\"positionSide\":\"BOTH\",\"positionAmt\":\"0.0\",\"notional\":\"0\",\"isolatedWallet\":\"0\"},{\"symbol\":\"QTUMUSDT\",\"initialMargin\":\"0\",\"maintMargin\":\"0\",\"unrealizedProfit\":\"0.00000000\",\"positionInitialMargin\":\"0\",\"openOrderInitialMargin\":\"0\",\"leverage\":\"20\",\"isolated\":false,\"entryPrice\":\"0.0000\",\"maxNotional\":\"25000\",\"positionSide\":\"BOTH\",\"positionAmt\":\"0.0\",\"notional\":\"0\",\"isolatedWallet\":\"0\"},{\"symbol\":\"IOTAUSDT\",\"initialMargin\":\"0\",\"maintMargin\":\"0\",\"unrealizedProfit\":\"0.00000000\",\"positionInitialMargin\":\"0\",\"openOrderInitialMargin\":\"0\",\"leverage\":\"20\",\"isolated\":false,\"entryPrice\":\"0.00000\",\"maxNotional\":\"25000\",\"positionSide\":\"BOTH\",\"positionAmt\":\"0.0\",\"notional\":\"0\",\"isolatedWallet\":\"0\"},{\"symbol\":\"BTCBUSD\",\"initialMargin\":\"0\",\"maintMargin\":\"0\",\"unrealizedProfit\":\"0.00000000\",\"positionInitialMargin\":\"0\",\"openOrderInitialMargin\":\"0\",\"leverage\":\"20\",\"isolated\":false,\"entryPrice\":\"0.0000\",\"maxNotional\":\"100000\",\"positionSide\":\"BOTH\",\"positionAmt\":\"0.000\",\"notional\":\"0\",\"isolatedWallet\":\"0\"},{\"symbol\":\"WAVESUSDT\",\"initialMargin\":\"0\",\"maintMargin\":\"0\",\"unrealizedProfit\":\"0.00000000\",\"positionInitialMargin\":\"0\",\"openOrderInitialMargin\":\"0\",\"leverage\":\"20\",\"isolated\":false,\"entryPrice\":\"0.00000\",\"maxNotional\":\"25000\",\"positionSide\":\"BOTH\",\"positionAmt\":\"0.0\",\"notional\":\"0\",\"isolatedWallet\":\"0\"},{\"symbol\":\"ADAUSDT\",\"initialMargin\":\"0\",\"maintMargin\":\"0\",\"unrealizedProfit\":\"0.00000000\",\"positionInitialMargin\":\"0\",\"openOrderInitialMargin\":\"0\",\"leverage\":\"1\",\"isolated\":false,\"entryPrice\":\"0.00000\",\"maxNotional\":\"9.223372036854776E18\",\"positionSide\":\"BOTH\",\"positionAmt\":\"0\",\"notional\":\"0\",\"isolatedWallet\":\"0\"},{\"symbol\":\"LITUSDT\",\"initialMargin\":\"0\",\"maintMargin\":\"0\",\"unrealizedProfit\":\"0.00000000\",\"positionInitialMargin\":\"0\",\"openOrderInitialMargin\":\"0\",\"leverage\":\"20\",\"isolated\":false,\"entryPrice\":\"0.0000\",\"maxNotional\":\"25000\",\"positionSide\":\"BOTH\",\"positionAmt\":\"0.0\",\"notional\":\"0\",\"isolatedWallet\":\"0\"},{\"symbol\":\"XTZUSDT\",\"initialMargin\":\"0\",\"maintMargin\":\"0\",\"unrealizedProfit\":\"0.00000000\",\"positionInitialMargin\":\"0\",\"openOrderInitialMargin\":\"0\",\"leverage\":\"20\",\"isolated\":false,\"entryPrice\":\"0.0000\",\"maxNotional\":\"250000\",\"positionSide\":\"BOTH\",\"positionAmt\":\"0.0\",\"notional\":\"0\",\"isolatedWallet\":\"0\"},{\"symbol\":\"BNBUSDT\",\"initialMargin\":\"0\",\"maintMargin\":\"0\",\"unrealizedProfit\":\"0.00000000\",\"positionInitialMargin\":\"0\",\"openOrderInitialMargin\":\"0\",\"leverage\":\"20\",\"isolated\":false,\"entryPrice\":\"0.00000\",\"maxNotional\":\"250000\",\"positionSide\":\"BOTH\",\"positionAmt\":\"0.00\",\"notional\":\"0\",\"isolatedWallet\":\"0\"},{\"symbol\":\"AKROUSDT\",\"initialMargin\":\"0\",\"maintMargin\":\"0\",\"unrealizedProfit\":\"0.00000000\",\"positionInitialMargin\":\"0\",\"openOrderInitialMargin\":\"0\",\"leverage\":\"20\",\"isolated\":false,\"entryPrice\":\"0.00000\",\"maxNotional\":\"25000\",\"positionSide\":\"BOTH\",\"positionAmt\":\"0\",\"notional\":\"0\",\"isolatedWallet\":\"0\"},{\"symbol\":\"HNTUSDT\",\"initialMargin\":\"0\",\"maintMargin\":\"0\",\"unrealizedProfit\":\"0.00000000\",\"positionInitialMargin\":\"0\",\"openOrderInitialMargin\":\"0\",\"leverage\":\"20\",\"isolated\":false,\"entryPrice\":\"0.0000\",\"maxNotional\":\"25000\",\"positionSide\":\"BOTH\",\"positionAmt\":\"0\",\"notional\":\"0\",\"isolatedWallet\":\"0\"},{\"symbol\":\"ETCUSDT\",\"initialMargin\":\"0\",\"maintMargin\":\"0\",\"unrealizedProfit\":\"0.00000000\",\"positionInitialMargin\":\"0\",\"openOrderInitialMargin\":\"0\",\"leverage\":\"20\",\"isolated\":false,\"entryPrice\":\"0.00000\",\"maxNotional\":\"250000\",\"positionSide\":\"BOTH\",\"positionAmt\":\"0.00\",\"notional\":\"0\",\"isolatedWallet\":\"0\"},{\"symbol\":\"XMRUSDT\",\"initialMargin\":\"0\",\"maintMargin\":\"0\",\"unrealizedProfit\":\"0.00000000\",\"positionInitialMargin\":\"0\",\"openOrderInitialMargin\":\"0\",\"leverage\":\"20\",\"isolated\":false,\"entryPrice\":\"0.00000\",\"maxNotional\":\"250000\",\"positionSide\":\"BOTH\",\"positionAmt\":\"0.000\",\"notional\":\"0\",\"isolatedWallet\":\"0\"},{\"symbol\":\"YFIUSDT\",\"initialMargin\":\"0\",\"maintMargin\":\"0\",\"unrealizedProfit\":\"0.00000000\",\"positionInitialMargin\":\"0\",\"openOrderInitialMargin\":\"0\",\"leverage\":\"20\",\"isolated\":false,\"entryPrice\":\"0.0000\",\"maxNotional\":\"25000\",\"positionSide\":\"BOTH\",\"positionAmt\":\"0.000\",\"notional\":\"0\",\"isolatedWallet\":\"0\"},{\"symbol\":\"ETHUSDT\",\"initialMargin\":\"0\",\"maintMargin\":\"0\",\"unrealizedProfit\":\"0.00000000\",\"positionInitialMargin\":\"0\",\"openOrderInitialMargin\":\"0\",\"leverage\":\"20\",\"isolated\":false,\"entryPrice\":\"0.00000\",\"maxNotional\":\"1000000\",\"positionSide\":\"BOTH\",\"positionAmt\":\"0.000\",\"notional\":\"0\",\"isolatedWallet\":\"0\"},{\"symbol\":\"ALICEUSDT\",\"initialMargin\":\"0\",\"maintMargin\":\"0\",\"unrealizedProfit\":\"0.00000000\",\"positionInitialMargin\":\"0\",\"openOrderInitialMargin\":\"0\",\"leverage\":\"20\",\"isolated\":false,\"entryPrice\":\"0.0000\",\"maxNotional\":\"25000\",\"positionSide\":\"BOTH\",\"positionAmt\":\"0.0\",\"notional\":\"0\",\"isolatedWallet\":\"0\"},{\"symbol\":\"ALPHAUSDT\",\"initialMargin\":\"0\",\"maintMargin\":\"0\",\"unrealizedProfit\":\"0.00000000\",\"positionInitialMargin\":\"0\",\"openOrderInitialMargin\":\"0\",\"leverage\":\"20\",\"isolated\":false,\"entryPrice\":\"0.00000\",\"maxNotional\":\"25000\",\"positionSide\":\"BOTH\",\"positionAmt\":\"0\",\"notional\":\"0\",\"isolatedWallet\":\"0\"},{\"symbol\":\"SFPUSDT\",\"initialMargin\":\"0\",\"maintMargin\":\"0\",\"unrealizedProfit\":\"0.00000000\",\"positionInitialMargin\":\"0\",\"openOrderInitialMargin\":\"0\",\"leverage\":\"20\",\"isolated\":false,\"entryPrice\":\"0.0000\",\"maxNotional\":\"25000\",\"positionSide\":\"BOTH\",\"positionAmt\":\"0\",\"notional\":\"0\",\"isolatedWallet\":\"0\"},{\"symbol\":\"REEFUSDT\",\"initialMargin\":\"0\",\"maintMargin\":\"0\",\"unrealizedProfit\":\"0.00000000\",\"positionInitialMargin\":\"0\",\"openOrderInitialMargin\":\"0\",\"leverage\":\"20\",\"isolated\":false,\"entryPrice\":\"0.000000\",\"maxNotional\":\"25000\",\"positionSide\":\"BOTH\",\"positionAmt\":\"0\",\"notional\":\"0\",\"isolatedWallet\":\"0\"},{\"symbol\":\"BATUSDT\",\"initialMargin\":\"0\",\"maintMargin\":\"0\",\"unrealizedProfit\":\"0.00000000\",\"positionInitialMargin\":\"0\",\"openOrderInitialMargin\":\"0\",\"leverage\":\"20\",\"isolated\":false,\"entryPrice\":\"0.00000\",\"maxNotional\":\"25000\",\"positionSide\":\"BOTH\",\"positionAmt\":\"0.0\",\"notional\":\"0\",\"isolatedWallet\":\"0\"},{\"symbol\":\"DOGEUSDT\",\"initialMargin\":\"0\",\"maintMargin\":\"0\",\"unrealizedProfit\":\"0.00000000\",\"positionInitialMargin\":\"0\",\"openOrderInitialMargin\":\"0\",\"leverage\":\"20\",\"isolated\":false,\"entryPrice\":\"0.000000\",\"maxNotional\":\"25000\",\"positionSide\":\"BOTH\",\"positionAmt\":\"0\",\"notional\":\"0\",\"isolatedWallet\":\"0\"},{\"symbol\":\"TRXUSDT\",\"initialMargin\":\"0\",\"maintMargin\":\"0\",\"unrealizedProfit\":\"0.00000000\",\"positionInitialMargin\":\"0\",\"openOrderInitialMargin\":\"0\",\"leverage\":\"20\",\"isolated\":false,\"entryPrice\":\"0.00000\",\"maxNotional\":\"250000\",\"positionSide\":\"BOTH\",\"positionAmt\":\"0\",\"notional\":\"0\",\"isolatedWallet\":\"0\"},{\"symbol\":\"RLCUSDT\",\"initialMargin\":\"0\",\"maintMargin\":\"0\",\"unrealizedProfit\":\"0.00000000\",\"positionInitialMargin\":\"0\",\"openOrderInitialMargin\":\"0\",\"leverage\":\"20\",\"isolated\":false,\"entryPrice\":\"0.00000\",\"maxNotional\":\"25000\",\"positionSide\":\"BOTH\",\"positionAmt\":\"0.0\",\"notional\":\"0\",\"isolatedWallet\":\"0\"},{\"symbol\":\"BTCSTUSDT\",\"initialMargin\":\"0\",\"maintMargin\":\"0\",\"unrealizedProfit\":\"0.00000000\",\"positionInitialMargin\":\"0\",\"openOrderInitialMargin\":\"0\",\"leverage\":\"20\",\"isolated\":false,\"entryPrice\":\"0.0000\",\"maxNotional\":\"25000\",\"positionSide\":\"BOTH\",\"positionAmt\":\"0.0\",\"notional\":\"0\",\"isolatedWallet\":\"0\"},{\"symbol\":\"STORJUSDT\",\"initialMargin\":\"0\",\"maintMargin\":\"0\",\"unrealizedProfit\":\"0.00000000\",\"positionInitialMargin\":\"0\",\"openOrderInitialMargin\":\"0\",\"leverage\":\"20\",\"isolated\":false,\"entryPrice\":\"0.0000\",\"maxNotional\":\"25000\",\"positionSide\":\"BOTH\",\"positionAmt\":\"0\",\"notional\":\"0\",\"isolatedWallet\":\"0\"},{\"symbol\":\"SNXUSDT\",\"initialMargin\":\"0\",\"maintMargin\":\"0\",\"unrealizedProfit\":\"0.00000000\",\"positionInitialMargin\":\"0\",\"openOrderInitialMargin\":\"0\",\"leverage\":\"20\",\"isolated\":false,\"entryPrice\":\"0.0000\",\"maxNotional\":\"25000\",\"positionSide\":\"BOTH\",\"positionAmt\":\"0.0\",\"notional\":\"0\",\"isolatedWallet\":\"0\"},{\"symbol\":\"ETHUSDT_210625\",\"initialMargin\":\"0\",\"maintMargin\":\"0\",\"unrealizedProfit\":\"0.00000000\",\"positionInitialMargin\":\"0\",\"openOrderInitialMargin\":\"0\",\"leverage\":\"20\",\"isolated\":false,\"entryPrice\":\"0.00000\",\"maxNotional\":\"250000\",\"positionSide\":\"BOTH\",\"positionAmt\":\"0.000\",\"notional\":\"0\",\"isolatedWallet\":\"0\"},{\"symbol\":\"XLMUSDT\",\"initialMargin\":\"0\",\"maintMargin\":\"0\",\"unrealizedProfit\":\"0.00000000\",\"positionInitialMargin\":\"0\",\"openOrderInitialMargin\":\"0\",\"leverage\":\"20\",\"isolated\":false,\"entryPrice\":\"0.00000\",\"maxNotional\":\"250000\",\"positionSide\":\"BOTH\",\"positionAmt\":\"0\",\"notional\":\"0\",\"isolatedWallet\":\"0\"},{\"symbol\":\"NEOUSDT\",\"initialMargin\":\"0\",\"maintMargin\":\"0\",\"unrealizedProfit\":\"0.00000000\",\"positionInitialMargin\":\"0\",\"openOrderInitialMargin\":\"0\",\"leverage\":\"20\",\"isolated\":false,\"entryPrice\":\"0.00000\",\"maxNotional\":\"25000\",\"positionSide\":\"BOTH\",\"positionAmt\":\"0.00\",\"notional\":\"0\",\"isolatedWallet\":\"0\"},{\"symbol\":\"UNFIUSDT\",\"initialMargin\":\"0\",\"maintMargin\":\"0\",\"unrealizedProfit\":\"0.00000000\",\"positionInitialMargin\":\"0\",\"openOrderInitialMargin\":\"0\",\"leverage\":\"20\",\"isolated\":false,\"entryPrice\":\"0.0000\",\"maxNotional\":\"25000\",\"positionSide\":\"BOTH\",\"positionAmt\":\"0.0\",\"notional\":\"0\",\"isolatedWallet\":\"0\"},{\"symbol\":\"SANDUSDT\",\"initialMargin\":\"0\",\"maintMargin\":\"0\",\"unrealizedProfit\":\"0.00000000\",\"positionInitialMargin\":\"0\",\"openOrderInitialMargin\":\"0\",\"leverage\":\"20\",\"isolated\":false,\"entryPrice\":\"0.00000\",\"maxNotional\":\"25000\",\"positionSide\":\"BOTH\",\"positionAmt\":\"0\",\"notional\":\"0\",\"isolatedWallet\":\"0\"},{\"symbol\":\"DASHUSDT\",\"initialMargin\":\"0\",\"maintMargin\":\"0\",\"unrealizedProfit\":\"0.00000000\",\"positionInitialMargin\":\"0\",\"openOrderInitialMargin\":\"0\",\"leverage\":\"20\",\"isolated\":false,\"entryPrice\":\"0.00000\",\"maxNotional\":\"25000\",\"positionSide\":\"BOTH\",\"positionAmt\":\"0.000\",\"notional\":\"0\",\"isolatedWallet\":\"0\"},{\"symbol\":\"KAVAUSDT\",\"initialMargin\":\"0\",\"maintMargin\":\"0\",\"unrealizedProfit\":\"0.00000000\",\"positionInitialMargin\":\"0\",\"openOrderInitialMargin\":\"0\",\"leverage\":\"20\",\"isolated\":false,\"entryPrice\":\"0.00000\",\"maxNotional\":\"25000\",\"positionSide\":\"BOTH\",\"positionAmt\":\"0.0\",\"notional\":\"0\",\"isolatedWallet\":\"0\"},{\"symbol\":\"RUNEUSDT\",\"initialMargin\":\"0\",\"maintMargin\":\"0\",\"unrealizedProfit\":\"0.00000000\",\"positionInitialMargin\":\"0\",\"openOrderInitialMargin\":\"0\",\"leverage\":\"20\",\"isolated\":false,\"entryPrice\":\"0.0000\",\"maxNotional\":\"25000\",\"positionSide\":\"BOTH\",\"positionAmt\":\"0\",\"notional\":\"0\",\"isolatedWallet\":\"0\"},{\"symbol\":\"CTKUSDT\",\"initialMargin\":\"0\",\"maintMargin\":\"0\",\"unrealizedProfit\":\"0.00000000\",\"positionInitialMargin\":\"0\",\"openOrderInitialMargin\":\"0\",\"leverage\":\"20\",\"isolated\":false,\"entryPrice\":\"0.00000\",\"maxNotional\":\"25000\",\"positionSide\":\"BOTH\",\"positionAmt\":\"0\",\"notional\":\"0\",\"isolatedWallet\":\"0\"},{\"symbol\":\"LINKUSDT\",\"initialMargin\":\"0\",\"maintMargin\":\"0\",\"unrealizedProfit\":\"0.00000000\",\"positionInitialMargin\":\"0\",\"openOrderInitialMargin\":\"0\",\"leverage\":\"20\",\"isolated\":false,\"entryPrice\":\"0.00000\",\"maxNotional\":\"250000\",\"positionSide\":\"BOTH\",\"positionAmt\":\"0.00\",\"notional\":\"0\",\"isolatedWallet\":\"0\"},{\"symbol\":\"CELRUSDT\",\"initialMargin\":\"0\",\"maintMargin\":\"0\",\"unrealizedProfit\":\"0.00000000\",\"positionInitialMargin\":\"0\",\"openOrderInitialMargin\":\"0\",\"leverage\":\"20\",\"isolated\":false,\"entryPrice\":\"0.00000\",\"maxNotional\":\"25000\",\"positionSide\":\"BOTH\",\"positionAmt\":\"0\",\"notional\":\"0\",\"isolatedWallet\":\"0\"},{\"symbol\":\"RSRUSDT\",\"initialMargin\":\"0\",\"maintMargin\":\"0\",\"unrealizedProfit\":\"0.00000000\",\"positionInitialMargin\":\"0\",\"openOrderInitialMargin\":\"0\",\"leverage\":\"20\",\"isolated\":false,\"entryPrice\":\"0.000000\",\"maxNotional\":\"25000\",\"positionSide\":\"BOTH\",\"positionAmt\":\"0\",\"notional\":\"0\",\"isolatedWallet\":\"0\"},{\"symbol\":\"SKLUSDT\",\"initialMargin\":\"0\",\"maintMargin\":\"0\",\"unrealizedProfit\":\"0.00000000\",\"positionInitialMargin\":\"0\",\"openOrderInitialMargin\":\"0\",\"leverage\":\"20\",\"isolated\":false,\"entryPrice\":\"0.00000\",\"maxNotional\":\"25000\",\"positionSide\":\"BOTH\",\"positionAmt\":\"0\",\"notional\":\"0\",\"isolatedWallet\":\"0\"},{\"symbol\":\"RENUSDT\",\"initialMargin\":\"0\",\"maintMargin\":\"0\",\"unrealizedProfit\":\"0.00000000\",\"positionInitialMargin\":\"0\",\"openOrderInitialMargin\":\"0\",\"leverage\":\"20\",\"isolated\":false,\"entryPrice\":\"0.00000\",\"maxNotional\":\"25000\",\"positionSide\":\"BOTH\",\"positionAmt\":\"0\",\"notional\":\"0\",\"isolatedWallet\":\"0\"},{\"symbol\":\"TOMOUSDT\",\"initialMargin\":\"0\",\"maintMargin\":\"0\",\"unrealizedProfit\":\"0.00000000\",\"positionInitialMargin\":\"0\",\"openOrderInitialMargin\":\"0\",\"leverage\":\"20\",\"isolated\":false,\"entryPrice\":\"0.0000\",\"maxNotional\":\"25000\",\"positionSide\":\"BOTH\",\"positionAmt\":\"0\",\"notional\":\"0\",\"isolatedWallet\":\"0\"},{\"symbol\":\"MTLUSDT\",\"initialMargin\":\"0\",\"maintMargin\":\"0\",\"unrealizedProfit\":\"0.00000000\",\"positionInitialMargin\":\"0\",\"openOrderInitialMargin\":\"0\",\"leverage\":\"20\",\"isolated\":false,\"entryPrice\":\"0.0000\",\"maxNotional\":\"25000\",\"positionSide\":\"BOTH\",\"positionAmt\":\"0\",\"notional\":\"0\",\"isolatedWallet\":\"0\"},{\"symbol\":\"LTCUSDT\",\"initialMargin\":\"0\",\"maintMargin\":\"0\",\"unrealizedProfit\":\"0.00000000\",\"positionInitialMargin\":\"0\",\"openOrderInitialMargin\":\"0\",\"leverage\":\"20\",\"isolated\":false,\"entryPrice\":\"0.00000\",\"maxNotional\":\"250000\",\"positionSide\":\"BOTH\",\"positionAmt\":\"0.000\",\"notional\":\"0\",\"isolatedWallet\":\"0\"},{\"symbol\":\"DODOUSDT\",\"initialMargin\":\"0\",\"maintMargin\":\"0\",\"unrealizedProfit\":\"0.00000000\",\"positionInitialMargin\":\"0\",\"openOrderInitialMargin\":\"0\",\"leverage\":\"20\",\"isolated\":false,\"entryPrice\":\"0.0000\",\"maxNotional\":\"25000\",\"positionSide\":\"BOTH\",\"positionAmt\":\"0.0\",\"notional\":\"0\",\"isolatedWallet\":\"0\"},{\"symbol\":\"EGLDUSDT\",\"initialMargin\":\"0\",\"maintMargin\":\"0\",\"unrealizedProfit\":\"0.00000000\",\"positionInitialMargin\":\"0\",\"openOrderInitialMargin\":\"0\",\"leverage\":\"20\",\"isolated\":false,\"entryPrice\":\"0.0000\",\"maxNotional\":\"25000\",\"positionSide\":\"BOTH\",\"positionAmt\":\"0.0\",\"notional\":\"0\",\"isolatedWallet\":\"0\"},{\"symbol\":\"KSMUSDT\",\"initialMargin\":\"0\",\"maintMargin\":\"0\",\"unrealizedProfit\":\"0.00000000\",\"positionInitialMargin\":\"0\",\"openOrderInitialMargin\":\"0\",\"leverage\":\"20\",\"isolated\":false,\"entryPrice\":\"0.0000\",\"maxNotional\":\"25000\",\"positionSide\":\"BOTH\",\"positionAmt\":\"0.0\",\"notional\":\"0\",\"isolatedWallet\":\"0\"},{\"symbol\":\"BTCUSDT_210625\",\"initialMargin\":\"0\",\"maintMargin\":\"0\",\"unrealizedProfit\":\"0.00000000\",\"positionInitialMargin\":\"0\",\"openOrderInitialMargin\":\"0\",\"leverage\":\"20\",\"isolated\":false,\"entryPrice\":\"0.0000\",\"maxNotional\":\"250000\",\"positionSide\":\"BOTH\",\"positionAmt\":\"0.000\",\"notional\":\"0\",\"isolatedWallet\":\"0\"},{\"symbol\":\"ONTUSDT\",\"initialMargin\":\"0\",\"maintMargin\":\"0\",\"unrealizedProfit\":\"0.00000000\",\"positionInitialMargin\":\"0\",\"openOrderInitialMargin\":\"0\",\"leverage\":\"20\",\"isolated\":false,\"entryPrice\":\"0.00000\",\"maxNotional\":\"25000\",\"positionSide\":\"BOTH\",\"positionAmt\":\"0.0\",\"notional\":\"0\",\"isolatedWallet\":\"0\"},{\"symbol\":\"VETUSDT\",\"initialMargin\":\"0\",\"maintMargin\":\"0\",\"unrealizedProfit\":\"0.00000000\",\"positionInitialMargin\":\"0\",\"openOrderInitialMargin\":\"0\",\"leverage\":\"20\",\"isolated\":false,\"entryPrice\":\"0.000000\",\"maxNotional\":\"25000\",\"positionSide\":\"BOTH\",\"positionAmt\":\"0\",\"notional\":\"0\",\"isolatedWallet\":\"0\"},{\"symbol\":\"TRBUSDT\",\"initialMargin\":\"0\",\"maintMargin\":\"0\",\"unrealizedProfit\":\"0.00000000\",\"positionInitialMargin\":\"0\",\"openOrderInitialMargin\":\"0\",\"leverage\":\"20\",\"isolated\":false,\"entryPrice\":\"0.0000\",\"maxNotional\":\"25000\",\"positionSide\":\"BOTH\",\"positionAmt\":\"0.0\",\"notional\":\"0\",\"isolatedWallet\":\"0\"},{\"symbol\":\"MANAUSDT\",\"initialMargin\":\"0\",\"maintMargin\":\"0\",\"unrealizedProfit\":\"0.00000000\",\"positionInitialMargin\":\"0\",\"openOrderInitialMargin\":\"0\",\"leverage\":\"20\",\"isolated\":false,\"entryPrice\":\"0.0000\",\"maxNotional\":\"25000\",\"positionSide\":\"BOTH\",\"positionAmt\":\"0\",\"notional\":\"0\",\"isolatedWallet\":\"0\"},{\"symbol\":\"COTIUSDT\",\"initialMargin\":\"0\",\"maintMargin\":\"0\",\"unrealizedProfit\":\"0.00000000\",\"positionInitialMargin\":\"0\",\"openOrderInitialMargin\":\"0\",\"leverage\":\"20\",\"isolated\":false,\"entryPrice\":\"0.00000\",\"maxNotional\":\"25000\",\"positionSide\":\"BOTH\",\"positionAmt\":\"0\",\"notional\":\"0\",\"isolatedWallet\":\"0\"},{\"symbol\":\"CHRUSDT\",\"initialMargin\":\"0\",\"maintMargin\":\"0\",\"unrealizedProfit\":\"0.00000000\",\"positionInitialMargin\":\"0\",\"openOrderInitialMargin\":\"0\",\"leverage\":\"20\",\"isolated\":false,\"entryPrice\":\"0.0000\",\"maxNotional\":\"25000\",\"positionSide\":\"BOTH\",\"positionAmt\":\"0\",\"notional\":\"0\",\"isolatedWallet\":\"0\"},{\"symbol\":\"GRTUSDT\",\"initialMargin\":\"0\",\"maintMargin\":\"0\",\"unrealizedProfit\":\"0.00000000\",\"positionInitialMargin\":\"0\",\"openOrderInitialMargin\":\"0\",\"leverage\":\"20\",\"isolated\":false,\"entryPrice\":\"0.00000\",\"maxNotional\":\"25000\",\"positionSide\":\"BOTH\",\"positionAmt\":\"0\",\"notional\":\"0\",\"isolatedWallet\":\"0\"},{\"symbol\":\"FLMUSDT\",\"initialMargin\":\"0\",\"maintMargin\":\"0\",\"unrealizedProfit\":\"0.00000000\",\"positionInitialMargin\":\"0\",\"openOrderInitialMargin\":\"0\",\"leverage\":\"20\",\"isolated\":false,\"entryPrice\":\"0.0000\",\"maxNotional\":\"25000\",\"positionSide\":\"BOTH\",\"positionAmt\":\"0\",\"notional\":\"0\",\"isolatedWallet\":\"0\"},{\"symbol\":\"EOSUSDT\",\"initialMargin\":\"0\",\"maintMargin\":\"0\",\"unrealizedProfit\":\"0.00000000\",\"positionInitialMargin\":\"0\",\"openOrderInitialMargin\":\"0\",\"leverage\":\"20\",\"isolated\":false,\"entryPrice\":\"0.0000\",\"maxNotional\":\"250000\",\"positionSide\":\"BOTH\",\"positionAmt\":\"0.0\",\"notional\":\"0\",\"isolatedWallet\":\"0\"},{\"symbol\":\"OGNUSDT\",\"initialMargin\":\"0\",\"maintMargin\":\"0\",\"unrealizedProfit\":\"0.00000000\",\"positionInitialMargin\":\"0\",\"openOrderInitialMargin\":\"0\",\"leverage\":\"20\",\"isolated\":false,\"entryPrice\":\"0.0000\",\"maxNotional\":\"25000\",\"positionSide\":\"BOTH\",\"positionAmt\":\"0\",\"notional\":\"0\",\"isolatedWallet\":\"0\"},{\"symbol\":\"BALUSDT\",\"initialMargin\":\"0\",\"maintMargin\":\"0\",\"unrealizedProfit\":\"0.00000000\",\"positionInitialMargin\":\"0\",\"openOrderInitialMargin\":\"0\",\"leverage\":\"20\",\"isolated\":false,\"entryPrice\":\"0.0000\",\"maxNotional\":\"25000\",\"positionSide\":\"BOTH\",\"positionAmt\":\"0.0\",\"notional\":\"0\",\"isolatedWallet\":\"0\"},{\"symbol\":\"STMXUSDT\",\"initialMargin\":\"0\",\"maintMargin\":\"0\",\"unrealizedProfit\":\"0.00000000\",\"positionInitialMargin\":\"0\",\"openOrderInitialMargin\":\"0\",\"leverage\":\"20\",\"isolated\":false,\"entryPrice\":\"0.00000\",\"maxNotional\":\"25000\",\"positionSide\":\"BOTH\",\"positionAmt\":\"0\",\"notional\":\"0\",\"isolatedWallet\":\"0\"},{\"symbol\":\"BTTUSDT\",\"initialMargin\":\"0\",\"maintMargin\":\"0\",\"unrealizedProfit\":\"0.00000000\",\"positionInitialMargin\":\"0\",\"openOrderInitialMargin\":\"0\",\"leverage\":\"20\",\"isolated\":false,\"entryPrice\":\"0.000000\",\"maxNotional\":\"25000\",\"positionSide\":\"BOTH\",\"positionAmt\":\"0\",\"notional\":\"0\",\"isolatedWallet\":\"0\"},{\"symbol\":\"LUNAUSDT\",\"initialMargin\":\"0\",\"maintMargin\":\"0\",\"unrealizedProfit\":\"0.00000000\",\"positionInitialMargin\":\"0\",\"openOrderInitialMargin\":\"0\",\"leverage\":\"20\",\"isolated\":false,\"entryPrice\":\"0.0000\",\"maxNotional\":\"25000\",\"positionSide\":\"BOTH\",\"positionAmt\":\"0\",\"notional\":\"0\",\"isolatedWallet\":\"0\"},{\"symbol\":\"DENTUSDT\",\"initialMargin\":\"0\",\"maintMargin\":\"0\",\"unrealizedProfit\":\"0.00000000\",\"positionInitialMargin\":\"0\",\"openOrderInitialMargin\":\"0\",\"leverage\":\"20\",\"isolated\":false,\"entryPrice\":\"0.000000\",\"maxNotional\":\"25000\",\"positionSide\":\"BOTH\",\"positionAmt\":\"0\",\"notional\":\"0\",\"isolatedWallet\":\"0\"},{\"symbol\":\"KNCUSDT\",\"initialMargin\":\"0\",\"maintMargin\":\"0\",\"unrealizedProfit\":\"0.00000000\",\"positionInitialMargin\":\"0\",\"openOrderInitialMargin\":\"0\",\"leverage\":\"20\",\"isolated\":false,\"entryPrice\":\"0.00000\",\"maxNotional\":\"25000\",\"positionSide\":\"BOTH\",\"positionAmt\":\"0\",\"notional\":\"0\",\"isolatedWallet\":\"0\"},{\"symbol\":\"SRMUSDT\",\"initialMargin\":\"0\",\"maintMargin\":\"0\",\"unrealizedProfit\":\"0.00000000\",\"positionInitialMargin\":\"0\",\"openOrderInitialMargin\":\"0\",\"leverage\":\"20\",\"isolated\":false,\"entryPrice\":\"0.0000\",\"maxNotional\":\"25000\",\"positionSide\":\"BOTH\",\"positionAmt\":\"0\",\"notional\":\"0\",\"isolatedWallet\":\"0\"},{\"symbol\":\"ENJUSDT\",\"initialMargin\":\"0\",\"maintMargin\":\"0\",\"unrealizedProfit\":\"0.00000000\",\"positionInitialMargin\":\"0\",\"openOrderInitialMargin\":\"0\",\"leverage\":\"20\",\"isolated\":false,\"entryPrice\":\"0.00000\",\"maxNotional\":\"25000\",\"positionSide\":\"BOTH\",\"positionAmt\":\"0\",\"notional\":\"0\",\"isolatedWallet\":\"0\"},{\"symbol\":\"ZENUSDT\",\"initialMargin\":\"0\",\"maintMargin\":\"0\",\"unrealizedProfit\":\"0.00000000\",\"positionInitialMargin\":\"0\",\"openOrderInitialMargin\":\"0\",\"leverage\":\"20\",\"isolated\":false,\"entryPrice\":\"0.0000\",\"maxNotional\":\"25000\",\"positionSide\":\"BOTH\",\"positionAmt\":\"0.0\",\"notional\":\"0\",\"isolatedWallet\":\"0\"},{\"symbol\":\"ATOMUSDT\",\"initialMargin\":\"0\",\"maintMargin\":\"0\",\"unrealizedProfit\":\"0.00000000\",\"positionInitialMargin\":\"0\",\"openOrderInitialMargin\":\"0\",\"leverage\":\"20\",\"isolated\":false,\"entryPrice\":\"0.00000\",\"maxNotional\":\"25000\",\"positionSide\":\"BOTH\",\"positionAmt\":\"0.00\",\"notional\":\"0\",\"isolatedWallet\":\"0\"},{\"symbol\":\"NEARUSDT\",\"initialMargin\":\"0\",\"maintMargin\":\"0\",\"unrealizedProfit\":\"0.00000000\",\"positionInitialMargin\":\"0\",\"openOrderInitialMargin\":\"0\",\"leverage\":\"20\",\"isolated\":false,\"entryPrice\":\"0.0000\",\"maxNotional\":\"25000\",\"positionSide\":\"BOTH\",\"positionAmt\":\"0\",\"notional\":\"0\",\"isolatedWallet\":\"0\"},{\"symbol\":\"BCHUSDT\",\"initialMargin\":\"0\",\"maintMargin\":\"0\",\"unrealizedProfit\":\"0.00000000\",\"positionInitialMargin\":\"0\",\"openOrderInitialMargin\":\"0\",\"leverage\":\"20\",\"isolated\":false,\"entryPrice\":\"0.00000\",\"maxNotional\":\"250000\",\"positionSide\":\"BOTH\",\"positionAmt\":\"0.000\",\"notional\":\"0\",\"isolatedWallet\":\"0\"},{\"symbol\":\"IOSTUSDT\",\"initialMargin\":\"0\",\"maintMargin\":\"0\",\"unrealizedProfit\":\"0.00000000\",\"positionInitialMargin\":\"0\",\"openOrderInitialMargin\":\"0\",\"leverage\":\"20\",\"isolated\":false,\"entryPrice\":\"0.000000\",\"maxNotional\":\"25000\",\"positionSide\":\"BOTH\",\"positionAmt\":\"0\",\"notional\":\"0\",\"isolatedWallet\":\"0\"},{\"symbol\":\"HBARUSDT\",\"initialMargin\":\"0\",\"maintMargin\":\"0\",\"unrealizedProfit\":\"0.00000000\",\"positionInitialMargin\":\"0\",\"openOrderInitialMargin\":\"0\",\"leverage\":\"20\",\"isolated\":false,\"entryPrice\":\"0.00000\",\"maxNotional\":\"25000\",\"positionSide\":\"BOTH\",\"positionAmt\":\"0\",\"notional\":\"0\",\"isolatedWallet\":\"0\"},{\"symbol\":\"ZECUSDT\",\"initialMargin\":\"0\",\"maintMargin\":\"0\",\"unrealizedProfit\":\"0.00000000\",\"positionInitialMargin\":\"0\",\"openOrderInitialMargin\":\"0\",\"leverage\":\"20\",\"isolated\":false,\"entryPrice\":\"0.00000\",\"maxNotional\":\"25000\",\"positionSide\":\"BOTH\",\"positionAmt\":\"0.000\",\"notional\":\"0\",\"isolatedWallet\":\"0\"},{\"symbol\":\"BZRXUSDT\",\"initialMargin\":\"0\",\"maintMargin\":\"0\",\"unrealizedProfit\":\"0.00000000\",\"positionInitialMargin\":\"0\",\"openOrderInitialMargin\":\"0\",\"leverage\":\"20\",\"isolated\":false,\"entryPrice\":\"0.0000\",\"maxNotional\":\"25000\",\"positionSide\":\"BOTH\",\"positionAmt\":\"0\",\"notional\":\"0\",\"isolatedWallet\":\"0\"},{\"symbol\":\"AAVEUSDT\",\"initialMargin\":\"0\",\"maintMargin\":\"0\",\"unrealizedProfit\":\"0.00000000\",\"positionInitialMargin\":\"0\",\"openOrderInitialMargin\":\"0\",\"leverage\":\"20\",\"isolated\":false,\"entryPrice\":\"0.0000\",\"maxNotional\":\"250000\",\"positionSide\":\"BOTH\",\"positionAmt\":\"0.0\",\"notional\":\"0\",\"isolatedWallet\":\"0\"},{\"symbol\":\"ALGOUSDT\",\"initialMargin\":\"0\",\"maintMargin\":\"0\",\"unrealizedProfit\":\"0.00000000\",\"positionInitialMargin\":\"0\",\"openOrderInitialMargin\":\"0\",\"leverage\":\"20\",\"isolated\":false,\"entryPrice\":\"0.00000\",\"maxNotional\":\"25000\",\"positionSide\":\"BOTH\",\"positionAmt\":\"0.0\",\"notional\":\"0\",\"isolatedWallet\":\"0\"},{\"symbol\":\"LRCUSDT\",\"initialMargin\":\"0\",\"maintMargin\":\"0\",\"unrealizedProfit\":\"0.00000000\",\"positionInitialMargin\":\"0\",\"openOrderInitialMargin\":\"0\",\"leverage\":\"20\",\"isolated\":false,\"entryPrice\":\"0.00000\",\"maxNotional\":\"25000\",\"positionSide\":\"BOTH\",\"positionAmt\":\"0\",\"notional\":\"0\",\"isolatedWallet\":\"0\"},{\"symbol\":\"AVAXUSDT\",\"initialMargin\":\"0\",\"maintMargin\":\"0\",\"unrealizedProfit\":\"0.00000000\",\"positionInitialMargin\":\"0\",\"openOrderInitialMargin\":\"0\",\"leverage\":\"20\",\"isolated\":false,\"entryPrice\":\"0.0000\",\"maxNotional\":\"25000\",\"positionSide\":\"BOTH\",\"positionAmt\":\"0\",\"notional\":\"0\",\"isolatedWallet\":\"0\"},{\"symbol\":\"MATICUSDT\",\"initialMargin\":\"0\",\"maintMargin\":\"0\",\"unrealizedProfit\":\"0.00000000\",\"positionInitialMargin\":\"0\",\"openOrderInitialMargin\":\"0\",\"leverage\":\"20\",\"isolated\":false,\"entryPrice\":\"0.00000\",\"maxNotional\":\"25000\",\"positionSide\":\"BOTH\",\"positionAmt\":\"0\",\"notional\":\"0\",\"isolatedWallet\":\"0\"},{\"symbol\":\"1INCHUSDT\",\"initialMargin\":\"0\",\"maintMargin\":\"0\",\"unrealizedProfit\":\"0.00000000\",\"positionInitialMargin\":\"0\",\"openOrderInitialMargin\":\"0\",\"leverage\":\"20\",\"isolated\":false,\"entryPrice\":\"0.0000\",\"maxNotional\":\"25000\",\"positionSide\":\"BOTH\",\"positionAmt\":\"0\",\"notional\":\"0\",\"isolatedWallet\":\"0\"},{\"symbol\":\"MKRUSDT\",\"initialMargin\":\"0\",\"maintMargin\":\"0\",\"unrealizedProfit\":\"0.00000000\",\"positionInitialMargin\":\"0\",\"openOrderInitialMargin\":\"0\",\"leverage\":\"20\",\"isolated\":false,\"entryPrice\":\"0.00000\",\"maxNotional\":\"25000\",\"positionSide\":\"BOTH\",\"positionAmt\":\"0.000\",\"notional\":\"0\",\"isolatedWallet\":\"0\"},{\"symbol\":\"THETAUSDT\",\"initialMargin\":\"0\",\"maintMargin\":\"0\",\"unrealizedProfit\":\"0.00000000\",\"positionInitialMargin\":\"0\",\"openOrderInitialMargin\":\"0\",\"leverage\":\"20\",\"isolated\":false,\"entryPrice\":\"0.00000\",\"maxNotional\":\"250000\",\"positionSide\":\"BOTH\",\"positionAmt\":\"0.0\",\"notional\":\"0\",\"isolatedWallet\":\"0\"},{\"symbol\":\"UNIUSDT\",\"initialMargin\":\"0\",\"maintMargin\":\"0\",\"unrealizedProfit\":\"0.00000000\",\"positionInitialMargin\":\"0\",\"openOrderInitialMargin\":\"0\",\"leverage\":\"20\",\"isolated\":false,\"entryPrice\":\"0.0000\",\"maxNotional\":\"250000\",\"positionSide\":\"BOTH\",\"positionAmt\":\"0\",\"notional\":\"0\",\"isolatedWallet\":\"0\"},{\"symbol\":\"LINAUSDT\",\"initialMargin\":\"0\",\"maintMargin\":\"0\",\"unrealizedProfit\":\"0.00000000\",\"positionInitialMargin\":\"0\",\"openOrderInitialMargin\":\"0\",\"leverage\":\"20\",\"isolated\":false,\"entryPrice\":\"0.00000\",\"maxNotional\":\"25000\",\"positionSide\":\"BOTH\",\"positionAmt\":\"0\",\"notional\":\"0\",\"isolatedWallet\":\"0\"},{\"symbol\":\"RVNUSDT\",\"initialMargin\":\"0\",\"maintMargin\":\"0\",\"unrealizedProfit\":\"0.00000000\",\"positionInitialMargin\":\"0\",\"openOrderInitialMargin\":\"0\",\"leverage\":\"20\",\"isolated\":false,\"entryPrice\":\"0.00000\",\"maxNotional\":\"25000\",\"positionSide\":\"BOTH\",\"positionAmt\":\"0\",\"notional\":\"0\",\"isolatedWallet\":\"0\"},{\"symbol\":\"FILUSDT\",\"initialMargin\":\"0\",\"maintMargin\":\"0\",\"unrealizedProfit\":\"0.00000000\",\"positionInitialMargin\":\"0\",\"openOrderInitialMargin\":\"0\",\"leverage\":\"20\",\"isolated\":false,\"entryPrice\":\"0.0000\",\"maxNotional\":\"250000\",\"positionSide\":\"BOTH\",\"positionAmt\":\"0.0\",\"notional\":\"0\",\"isolatedWallet\":\"0\"},{\"symbol\":\"DEFIUSDT\",\"initialMargin\":\"0\",\"maintMargin\":\"0\",\"unrealizedProfit\":\"0.00000000\",\"positionInitialMargin\":\"0\",\"openOrderInitialMargin\":\"0\",\"leverage\":\"20\",\"isolated\":false,\"entryPrice\":\"0.0000\",\"maxNotional\":\"25000\",\"positionSide\":\"BOTH\",\"positionAmt\":\"0.000\",\"notional\":\"0\",\"isolatedWallet\":\"0\"},{\"symbol\":\"COMPUSDT\",\"initialMargin\":\"0\",\"maintMargin\":\"0\",\"unrealizedProfit\":\"0.00000000\",\"positionInitialMargin\":\"0\",\"openOrderInitialMargin\":\"0\",\"leverage\":\"20\",\"isolated\":false,\"entryPrice\":\"0.00000\",\"maxNotional\":\"25000\",\"positionSide\":\"BOTH\",\"positionAmt\":\"0.000\",\"notional\":\"0\",\"isolatedWallet\":\"0\"},{\"symbol\":\"SOLUSDT\",\"initialMargin\":\"0\",\"maintMargin\":\"0\",\"unrealizedProfit\":\"0.00000000\",\"positionInitialMargin\":\"0\",\"openOrderInitialMargin\":\"0\",\"leverage\":\"20\",\"isolated\":false,\"entryPrice\":\"0.0000\",\"maxNotional\":\"25000\",\"positionSide\":\"BOTH\",\"positionAmt\":\"0\",\"notional\":\"0\",\"isolatedWallet\":\"0\"},{\"symbol\":\"BTCUSDT\",\"initialMargin\":\"0\",\"maintMargin\":\"0\",\"unrealizedProfit\":\"0.00000000\",\"positionInitialMargin\":\"0\",\"openOrderInitialMargin\":\"0\",\"leverage\":\"20\",\"isolated\":false,\"entryPrice\":\"0.00000\",\"maxNotional\":\"10000000\",\"positionSide\":\"BOTH\",\"positionAmt\":\"0.000\",\"notional\":\"0\",\"isolatedWallet\":\"0\"},{\"symbol\":\"OMGUSDT\",\"initialMargin\":\"0\",\"maintMargin\":\"0\",\"unrealizedProfit\":\"0.00000000\",\"positionInitialMargin\":\"0\",\"openOrderInitialMargin\":\"0\",\"leverage\":\"20\",\"isolated\":false,\"entryPrice\":\"0.00000\",\"maxNotional\":\"25000\",\"positionSide\":\"BOTH\",\"positionAmt\":\"0.0\",\"notional\":\"0\",\"isolatedWallet\":\"0\"},{\"symbol\":\"ICXUSDT\",\"initialMargin\":\"0\",\"maintMargin\":\"0\",\"unrealizedProfit\":\"0.00000000\",\"positionInitialMargin\":\"0\",\"openOrderInitialMargin\":\"0\",\"leverage\":\"20\",\"isolated\":false,\"entryPrice\":\"0.0000\",\"maxNotional\":\"25000\",\"positionSide\":\"BOTH\",\"positionAmt\":\"0\",\"notional\":\"0\",\"isolatedWallet\":\"0\"},{\"symbol\":\"BLZUSDT\",\"initialMargin\":\"0\",\"maintMargin\":\"0\",\"unrealizedProfit\":\"0.00000000\",\"positionInitialMargin\":\"0\",\"openOrderInitialMargin\":\"0\",\"leverage\":\"20\",\"isolated\":false,\"entryPrice\":\"0.00000\",\"maxNotional\":\"25000\",\"positionSide\":\"BOTH\",\"positionAmt\":\"0\",\"notional\":\"0\",\"isolatedWallet\":\"0\"},{\"symbol\":\"FTMUSDT\",\"initialMargin\":\"0\",\"maintMargin\":\"0\",\"unrealizedProfit\":\"0.00000000\",\"positionInitialMargin\":\"0\",\"openOrderInitialMargin\":\"0\",\"leverage\":\"20\",\"isolated\":false,\"entryPrice\":\"0.000000\",\"maxNotional\":\"25000\",\"positionSide\":\"BOTH\",\"positionAmt\":\"0\",\"notional\":\"0\",\"isolatedWallet\":\"0\"},{\"symbol\":\"YFIIUSDT\",\"initialMargin\":\"0\",\"maintMargin\":\"0\",\"unrealizedProfit\":\"0.00000000\",\"positionInitialMargin\":\"0\",\"openOrderInitialMargin\":\"0\",\"leverage\":\"20\",\"isolated\":false,\"entryPrice\":\"0.0000\",\"maxNotional\":\"25000\",\"positionSide\":\"BOTH\",\"positionAmt\":\"0.000\",\"notional\":\"0\",\"isolatedWallet\":\"0\"},{\"symbol\":\"BANDUSDT\",\"initialMargin\":\"0\",\"maintMargin\":\"0\",\"unrealizedProfit\":\"0.00000000\",\"positionInitialMargin\":\"0\",\"openOrderInitialMargin\":\"0\",\"leverage\":\"20\",\"isolated\":false,\"entryPrice\":\"0.00000\",\"maxNotional\":\"25000\",\"positionSide\":\"BOTH\",\"positionAmt\":\"0.0\",\"notional\":\"0\",\"isolatedWallet\":\"0\"},{\"symbol\":\"XRPUSDT\",\"initialMargin\":\"0\",\"maintMargin\":\"0\",\"unrealizedProfit\":\"0.00000000\",\"positionInitialMargin\":\"0\",\"openOrderInitialMargin\":\"0\",\"leverage\":\"20\",\"isolated\":false,\"entryPrice\":\"0.00000\",\"maxNotional\":\"250000\",\"positionSide\":\"BOTH\",\"positionAmt\":\"0.0\",\"notional\":\"0\",\"isolatedWallet\":\"0\"},{\"symbol\":\"SXPUSDT\",\"initialMargin\":\"0\",\"maintMargin\":\"0\",\"unrealizedProfit\":\"0.00000000\",\"positionInitialMargin\":\"0\",\"openOrderInitialMargin\":\"0\",\"leverage\":\"20\",\"isolated\":false,\"entryPrice\":\"0.00000\",\"maxNotional\":\"25000\",\"positionSide\":\"BOTH\",\"positionAmt\":\"0.0\",\"notional\":\"0\",\"isolatedWallet\":\"0\"},{\"symbol\":\"CRVUSDT\",\"initialMargin\":\"0\",\"maintMargin\":\"0\",\"unrealizedProfit\":\"0.00000000\",\"positionInitialMargin\":\"0\",\"openOrderInitialMargin\":\"0\",\"leverage\":\"20\",\"isolated\":false,\"entryPrice\":\"0.0000\",\"maxNotional\":\"25000\",\"positionSide\":\"BOTH\",\"positionAmt\":\"0.0\",\"notional\":\"0\",\"isolatedWallet\":\"0\"},{\"symbol\":\"BELUSDT\",\"initialMargin\":\"0\",\"maintMargin\":\"0\",\"unrealizedProfit\":\"0.00000000\",\"positionInitialMargin\":\"0\",\"openOrderInitialMargin\":\"0\",\"leverage\":\"20\",\"isolated\":false,\"entryPrice\":\"0.00000\",\"maxNotional\":\"25000\",\"positionSide\":\"BOTH\",\"positionAmt\":\"0\",\"notional\":\"0\",\"isolatedWallet\":\"0\"},{\"symbol\":\"DOTUSDT\",\"initialMargin\":\"0\",\"maintMargin\":\"0\",\"unrealizedProfit\":\"0.00000000\",\"positionInitialMargin\":\"0\",\"openOrderInitialMargin\":\"0\",\"leverage\":\"20\",\"isolated\":false,\"entryPrice\":\"0.0000\",\"maxNotional\":\"250000\",\"positionSide\":\"BOTH\",\"positionAmt\":\"0.0\",\"notional\":\"0\",\"isolatedWallet\":\"0\"},{\"symbol\":\"XEMUSDT\",\"initialMargin\":\"0\",\"maintMargin\":\"0\",\"unrealizedProfit\":\"0.00000000\",\"positionInitialMargin\":\"0\",\"openOrderInitialMargin\":\"0\",\"leverage\":\"20\",\"isolated\":false,\"entryPrice\":\"0.0000\",\"maxNotional\":\"25000\",\"positionSide\":\"BOTH\",\"positionAmt\":\"0\",\"notional\":\"0\",\"isolatedWallet\":\"0\"},{\"symbol\":\"ONEUSDT\",\"initialMargin\":\"0\",\"maintMargin\":\"0\",\"unrealizedProfit\":\"0.00000000\",\"positionInitialMargin\":\"0\",\"openOrderInitialMargin\":\"0\",\"leverage\":\"20\",\"isolated\":false,\"entryPrice\":\"0.00000\",\"maxNotional\":\"25000\",\"positionSide\":\"BOTH\",\"positionAmt\":\"0\",\"notional\":\"0\",\"isolatedWallet\":\"0\"},{\"symbol\":\"ZILUSDT\",\"initialMargin\":\"0\",\"maintMargin\":\"0\",\"unrealizedProfit\":\"0.00000000\",\"positionInitialMargin\":\"0\",\"openOrderInitialMargin\":\"0\",\"leverage\":\"20\",\"isolated\":false,\"entryPrice\":\"0.00000\",\"maxNotional\":\"25000\",\"positionSide\":\"BOTH\",\"positionAmt\":\"0\",\"notional\":\"0\",\"isolatedWallet\":\"0\"},{\"symbol\":\"AXSUSDT\",\"initialMargin\":\"0\",\"maintMargin\":\"0\",\"unrealizedProfit\":\"0.00000000\",\"positionInitialMargin\":\"0\",\"openOrderInitialMargin\":\"0\",\"leverage\":\"20\",\"isolated\":false,\"entryPrice\":\"0.00000\",\"maxNotional\":\"25000\",\"positionSide\":\"BOTH\",\"positionAmt\":\"0\",\"notional\":\"0\",\"isolatedWallet\":\"0\"},{\"symbol\":\"OCEANUSDT\",\"initialMargin\":\"0\",\"maintMargin\":\"0\",\"unrealizedProfit\":\"0.00000000\",\"positionInitialMargin\":\"0\",\"openOrderInitialMargin\":\"0\",\"leverage\":\"20\",\"isolated\":false,\"entryPrice\":\"0.00000\",\"maxNotional\":\"25000\",\"positionSide\":\"BOTH\",\"positionAmt\":\"0\",\"notional\":\"0\",\"isolatedWallet\":\"0\"},{\"symbol\":\"CHZUSDT\",\"initialMargin\":\"0\",\"maintMargin\":\"0\",\"unrealizedProfit\":\"0.00000000\",\"positionInitialMargin\":\"0\",\"openOrderInitialMargin\":\"0\",\"leverage\":\"20\",\"isolated\":false,\"entryPrice\":\"0.00000\",\"maxNotional\":\"25000\",\"positionSide\":\"BOTH\",\"positionAmt\":\"0\",\"notional\":\"0\",\"isolatedWallet\":\"0\"},{\"symbol\":\"ANKRUSDT\",\"initialMargin\":\"0\",\"maintMargin\":\"0\",\"unrealizedProfit\":\"0.00000000\",\"positionInitialMargin\":\"0\",\"openOrderInitialMargin\":\"0\",\"leverage\":\"20\",\"isolated\":false,\"entryPrice\":\"0.000000\",\"maxNotional\":\"25000\",\"positionSide\":\"BOTH\",\"positionAmt\":\"0\",\"notional\":\"0\",\"isolatedWallet\":\"0\"}]}\n"
     ]
    },
    {
     "data": {
      "text/plain": [
       "[<binance_f.model.accountinformation.Asset at 0x7ff252481a90>,\n",
       " <binance_f.model.accountinformation.Asset at 0x7ff252481e80>,\n",
       " <binance_f.model.accountinformation.Asset at 0x7ff252481f10>]"
      ]
     },
     "execution_count": 7,
     "metadata": {},
     "output_type": "execute_result"
    }
   ],
   "source": [
    "result = request_client.get_account_information()\n",
    "result.assets"
   ]
  },
  {
   "cell_type": "code",
   "execution_count": 12,
   "metadata": {},
   "outputs": [
    {
     "data": {
      "text/plain": [
       "'BNB'"
      ]
     },
     "execution_count": 12,
     "metadata": {},
     "output_type": "execute_result"
    }
   ],
   "source": [
    "result.assets[0].asset"
   ]
  },
  {
   "cell_type": "code",
   "execution_count": 15,
   "metadata": {},
   "outputs": [
    {
     "data": {
      "text/plain": [
       "1.00312349"
      ]
     },
     "execution_count": 15,
     "metadata": {},
     "output_type": "execute_result"
    }
   ],
   "source": [
    "result.assets[0].marginBalance"
   ]
  },
  {
   "cell_type": "code",
   "execution_count": 7,
   "metadata": {},
   "outputs": [
    {
     "data": {
      "text/plain": [
       "1.23164605"
      ]
     },
     "execution_count": 7,
     "metadata": {},
     "output_type": "execute_result"
    }
   ],
   "source": [
    "float(str(round(1.231646, 6))+\"05\")"
   ]
  },
  {
   "cell_type": "code",
   "execution_count": 11,
   "metadata": {},
   "outputs": [
    {
     "data": {
      "text/plain": [
       "0.6931471805599453"
      ]
     },
     "execution_count": 11,
     "metadata": {},
     "output_type": "execute_result"
    }
   ],
   "source": [
    "import numpy as np\n",
    "np.log(2)"
   ]
  },
  {
   "cell_type": "code",
   "execution_count": null,
   "metadata": {},
   "outputs": [],
   "source": []
  }
 ],
 "metadata": {
  "kernelspec": {
   "display_name": "Python 3",
   "language": "python",
   "name": "python3"
  },
  "language_info": {
   "codemirror_mode": {
    "name": "ipython",
    "version": 3
   },
   "file_extension": ".py",
   "mimetype": "text/x-python",
   "name": "python",
   "nbconvert_exporter": "python",
   "pygments_lexer": "ipython3",
   "version": "3.8.5"
  }
 },
 "nbformat": 4,
 "nbformat_minor": 4
}
